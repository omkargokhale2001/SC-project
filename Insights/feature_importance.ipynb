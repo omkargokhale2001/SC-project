{
 "cells": [
  {
   "cell_type": "code",
   "execution_count": 1,
   "metadata": {
    "_cell_guid": "b1076dfc-b9ad-4769-8c92-a6c4dae69d19",
    "_uuid": "8f2839f25d086af736a60e9eeb907d3b93b6e0e5",
    "execution": {
     "iopub.execute_input": "2025-04-14T04:59:05.284389Z",
     "iopub.status.busy": "2025-04-14T04:59:05.284032Z",
     "iopub.status.idle": "2025-04-14T04:59:05.289323Z",
     "shell.execute_reply": "2025-04-14T04:59:05.288293Z",
     "shell.execute_reply.started": "2025-04-14T04:59:05.284364Z"
    },
    "trusted": true
   },
   "outputs": [],
   "source": [
    "import pandas as pd\n",
    "import json\n",
    "import ast"
   ]
  },
  {
   "cell_type": "markdown",
   "metadata": {},
   "source": [
    "# Data with Entities"
   ]
  },
  {
   "cell_type": "code",
   "execution_count": 2,
   "metadata": {
    "execution": {
     "iopub.execute_input": "2025-04-14T05:04:53.895774Z",
     "iopub.status.busy": "2025-04-14T05:04:53.895035Z",
     "iopub.status.idle": "2025-04-14T05:04:56.665957Z",
     "shell.execute_reply": "2025-04-14T05:04:56.665081Z",
     "shell.execute_reply.started": "2025-04-14T05:04:53.895735Z"
    },
    "trusted": true
   },
   "outputs": [],
   "source": [
    "df = pd.read_csv(r'/Users/shantanupatankar/Desktop/Social Computing Project/Data/Clean Data/relevant_data_trim_entities_6.csv')"
   ]
  },
  {
   "cell_type": "code",
   "execution_count": 3,
   "metadata": {
    "execution": {
     "iopub.execute_input": "2025-04-14T05:04:56.983977Z",
     "iopub.status.busy": "2025-04-14T05:04:56.983659Z",
     "iopub.status.idle": "2025-04-14T05:04:56.994225Z",
     "shell.execute_reply": "2025-04-14T05:04:56.993205Z",
     "shell.execute_reply.started": "2025-04-14T05:04:56.983958Z"
    },
    "trusted": true
   },
   "outputs": [
    {
     "name": "stdout",
     "output_type": "stream",
     "text": [
      "Number of authors with more than 1 tweet: 180114\n",
      "Total unique authors: 312538\n",
      "Percentage of authors with >1 tweet: 57.63%\n"
     ]
    }
   ],
   "source": [
    "# Count the number of authors with more than 1 tweet\n",
    "author_counts = df['author_id'].value_counts()\n",
    "authors_with_multiple_tweets = (author_counts > 10).sum()\n",
    "\n",
    "print(f\"Number of authors with more than 1 tweet: {authors_with_multiple_tweets}\")\n",
    "print(f\"Total unique authors: {len(author_counts)}\")\n",
    "print(f\"Percentage of authors with >1 tweet: {authors_with_multiple_tweets/len(author_counts)*100:.2f}%\")"
   ]
  },
  {
   "cell_type": "code",
   "execution_count": 4,
   "metadata": {
    "execution": {
     "iopub.execute_input": "2025-04-14T05:04:57.594081Z",
     "iopub.status.busy": "2025-04-14T05:04:57.593151Z",
     "iopub.status.idle": "2025-04-14T05:04:57.606526Z",
     "shell.execute_reply": "2025-04-14T05:04:57.605413Z",
     "shell.execute_reply.started": "2025-04-14T05:04:57.594057Z"
    },
    "trusted": true
   },
   "outputs": [],
   "source": [
    "import pandas as pd\n",
    "import ast\n",
    "\n",
    "def process_dataframe(df):\n",
    "    \"\"\"\n",
    "    Analyzes tweet data from a DataFrame and returns user-level aggregated metrics.\n",
    "    \n",
    "    Parameters:\n",
    "    df (pd.DataFrame): A DataFrame with tweet data. Must include 'entities', 'text',\n",
    "                       'created_at', 'public_metrics', 'author_id', and 'id' columns.\n",
    "    \n",
    "    Returns:\n",
    "    pd.DataFrame: Aggregated metrics per user (author_id).\n",
    "    \"\"\"\n",
    "\n",
    "    # Convert 'entities' to dictionaries if they're strings\n",
    "    if isinstance(df['entities'].iloc[0], str):\n",
    "        try:\n",
    "            df['entities'] = df['entities'].apply(ast.literal_eval)\n",
    "        except:\n",
    "            pass\n",
    "\n",
    "        # Extract entity counts\n",
    "        \n",
    "\n",
    "    try:\n",
    "        df['hashtags_count'] = df['entities'].apply(lambda x: len(x['hashtags']))\n",
    "    except:\n",
    "        df['hashtags_count'] = 0\n",
    "\n",
    "    try:\n",
    "        df['symbols_count'] = df['entities'].apply(lambda x: len(x['symbols']))\n",
    "    except:\n",
    "        df['symbols_count'] = 0\n",
    "\n",
    "    try:\n",
    "        df['user_mentions_count'] = df['entities'].apply(lambda x: len(x['user_mentions']))\n",
    "    except:\n",
    "        df['user_mentions_count'] = 0\n",
    "\n",
    "    try:\n",
    "        df['urls_count'] = df['entities'].apply(lambda x: len(x['urls']))\n",
    "    except:\n",
    "        df['urls_count'] = 0\n",
    "\n",
    "    try:\n",
    "        df['media_count'] = df['entities'].apply(lambda x: len(x.get('media', [])))\n",
    "    except:\n",
    "        df['media_count'] = 0\n",
    "\n",
    "    try:\n",
    "        df['word_count'] = df['text'].apply(lambda x: len(x.split()))\n",
    "    except:\n",
    "        df['word_count'] = 0\n",
    "\n",
    "    # Ensure 'created_at' is in datetime format\n",
    "    df['created_at'] = pd.to_datetime(df['created_at'])\n",
    "\n",
    "    # Convert 'public_metrics' to dict if it's a string\n",
    "    try:\n",
    "        df['public_metrics'] = df['public_metrics'].apply(ast.literal_eval)\n",
    "    except:\n",
    "        pass  # Already in dictionary format\n",
    "\n",
    "    def safe_get_metrics(metrics, field):\n",
    "        try:\n",
    "            if isinstance(metrics, dict):\n",
    "                return metrics.get(field, 0)\n",
    "            return 0\n",
    "        except:\n",
    "            return 0\n",
    "\n",
    "    df['retweet_count'] = df['public_metrics'].apply(lambda x: safe_get_metrics(x, 'retweet_count'))\n",
    "    df['reply_count'] = df['public_metrics'].apply(lambda x: safe_get_metrics(x, 'reply_count'))\n",
    "    df['like_count'] = df['public_metrics'].apply(lambda x: safe_get_metrics(x, 'like_count'))\n",
    "    df['quote_count'] = df['public_metrics'].apply(lambda x: safe_get_metrics(x, 'quote_count'))\n",
    "\n",
    "    # Sort by author and time\n",
    "    df_sorted = df.sort_values(['author_id', 'created_at'])\n",
    "\n",
    "    # Calculate time differences between tweets\n",
    "    df_sorted['time_diff'] = df_sorted.groupby('author_id')['created_at'].diff().dt.total_seconds()\n",
    "\n",
    "    # Group by author and compute aggregated metrics\n",
    "    result_df = (\n",
    "        df_sorted\n",
    "        .groupby('author_id')\n",
    "        .agg(\n",
    "            median_time_between_tweets_seconds=('time_diff', 'median'),\n",
    "            tweet_count=('id', 'count'),\n",
    "            avg_retweet_count=('retweet_count', 'mean'),\n",
    "            avg_reply_count=('reply_count', 'mean'),\n",
    "            avg_like_count=('like_count', 'mean'),\n",
    "            avg_quote_count=('quote_count', 'mean'),\n",
    "            avg_hashtag_count=('hashtags_count', 'mean'),\n",
    "            avg_symbols_count=('symbols_count', 'mean'),\n",
    "            avg_user_mentions_count=('user_mentions_count', 'mean'),\n",
    "            avg_media_count=('media_count', 'mean'),\n",
    "            avg_word_count=('word_count', 'mean'),\n",
    "        )\n",
    "        .reset_index()\n",
    "    )\n",
    "\n",
    "    # Add time in minutes and hours\n",
    "    result_df['median_time_between_tweets_minutes'] = result_df['median_time_between_tweets_seconds'] / 60\n",
    "    result_df['median_time_between_tweets_hours'] = result_df['median_time_between_tweets_seconds'] / 3600\n",
    "\n",
    "    # Drop users with only 1 tweet (NaN median time)\n",
    "    result_df = result_df.dropna(subset=['median_time_between_tweets_seconds'])\n",
    "\n",
    "    # Round select metrics for readability\n",
    "    round_cols = ['avg_retweet_count', 'avg_reply_count', 'avg_like_count', 'avg_quote_count']\n",
    "    result_df[round_cols] = result_df[round_cols].round(2)\n",
    "\n",
    "    return result_df\n"
   ]
  },
  {
   "cell_type": "code",
   "execution_count": 5,
   "metadata": {
    "execution": {
     "iopub.execute_input": "2025-04-14T05:05:05.504701Z",
     "iopub.status.busy": "2025-04-14T05:05:05.503712Z",
     "iopub.status.idle": "2025-04-14T05:05:35.190805Z",
     "shell.execute_reply": "2025-04-14T05:05:35.189931Z",
     "shell.execute_reply.started": "2025-04-14T05:05:05.504673Z"
    },
    "trusted": true
   },
   "outputs": [],
   "source": [
    "result_df = process_dataframe(df)"
   ]
  },
  {
   "cell_type": "code",
   "execution_count": 6,
   "metadata": {
    "execution": {
     "iopub.execute_input": "2025-04-14T05:05:35.192490Z",
     "iopub.status.busy": "2025-04-14T05:05:35.192207Z",
     "iopub.status.idle": "2025-04-14T05:05:35.202780Z",
     "shell.execute_reply": "2025-04-14T05:05:35.201761Z",
     "shell.execute_reply.started": "2025-04-14T05:05:35.192469Z"
    },
    "trusted": true
   },
   "outputs": [],
   "source": [
    "result_df['author_id'] = 'u' + result_df['author_id'].astype(str)"
   ]
  },
  {
   "cell_type": "code",
   "execution_count": 7,
   "metadata": {
    "execution": {
     "iopub.execute_input": "2025-04-14T05:05:35.204209Z",
     "iopub.status.busy": "2025-04-14T05:05:35.203827Z",
     "iopub.status.idle": "2025-04-14T05:05:36.552200Z",
     "shell.execute_reply": "2025-04-14T05:05:36.551258Z",
     "shell.execute_reply.started": "2025-04-14T05:05:35.204181Z"
    },
    "trusted": true
   },
   "outputs": [],
   "source": [
    "label_df = pd.read_csv(\"/Users/shantanupatankar/Desktop/Social Computing Project/Data/Raw Data/label.csv\")\n",
    "result_df = result_df.merge(label_df, left_on='author_id', right_on='id', how='left')\n"
   ]
  },
  {
   "cell_type": "code",
   "execution_count": 8,
   "metadata": {},
   "outputs": [],
   "source": [
    "result_df.to_csv(\"/Users/shantanupatankar/Desktop/Social Computing Project/Data/Clean Data/Tweet_Numerical_6.csv\", index = False)"
   ]
  },
  {
   "cell_type": "code",
   "execution_count": 9,
   "metadata": {
    "execution": {
     "iopub.execute_input": "2025-04-14T05:05:36.554301Z",
     "iopub.status.busy": "2025-04-14T05:05:36.553988Z",
     "iopub.status.idle": "2025-04-14T05:05:36.561896Z",
     "shell.execute_reply": "2025-04-14T05:05:36.560961Z",
     "shell.execute_reply.started": "2025-04-14T05:05:36.554273Z"
    },
    "trusted": true
   },
   "outputs": [],
   "source": [
    "# result_df = result_df[result_df['tweet_count'] > 10]"
   ]
  },
  {
   "cell_type": "code",
   "execution_count": 10,
   "metadata": {
    "execution": {
     "iopub.execute_input": "2025-04-14T05:50:45.353512Z",
     "iopub.status.busy": "2025-04-14T05:50:45.353149Z",
     "iopub.status.idle": "2025-04-14T05:50:45.362776Z",
     "shell.execute_reply": "2025-04-14T05:50:45.361661Z",
     "shell.execute_reply.started": "2025-04-14T05:50:45.353492Z"
    },
    "trusted": true
   },
   "outputs": [],
   "source": [
    "from imblearn.under_sampling import RandomUnderSampler\n",
    "from imblearn.pipeline import make_pipeline\n",
    "from sklearn.preprocessing import LabelEncoder\n",
    "from sklearn.model_selection import train_test_split\n",
    "from sklearn.ensemble import RandomForestClassifier\n",
    "import numpy as np\n",
    "\n",
    "def train_model(data):\n",
    "    # Encode the target variable\n",
    "    le = LabelEncoder()\n",
    "    data['label'] = le.fit_transform(data['label'])\n",
    "    \n",
    "    # Separate features and target\n",
    "    cols_to_drop = ['label', 'author_id', 'id', 'id_x', 'id_y']\n",
    "    X = data.drop(columns=[col for col in cols_to_drop if col in data.columns])\n",
    "    y = data['label']\n",
    "    \n",
    "    # Handle missing values (NaN)\n",
    "    X = X.fillna(0)  # Or use more sophisticated imputation\n",
    "    \n",
    "    # Split data (stratified to maintain class distribution in splits)\n",
    "    X_train, X_test, y_train, y_test = train_test_split(\n",
    "        X, y, \n",
    "        test_size=0.1, \n",
    "        random_state=42, \n",
    "        stratify=y\n",
    "    )\n",
    "    \n",
    "    # Create undersampler - reduces majority class to match minority\n",
    "    undersampler = RandomUnderSampler(\n",
    "        sampling_strategy='auto',  # balances the classes\n",
    "        random_state=42\n",
    "    )\n",
    "    \n",
    "    # Create model with balanced class weights\n",
    "    model = RandomForestClassifier(\n",
    "        class_weight='balanced',\n",
    "        random_state=42,\n",
    "        n_estimators=200,\n",
    "        max_depth=30\n",
    "    )\n",
    "    \n",
    "    # Create a pipeline that first undersamples then fits the model\n",
    "    pipeline = make_pipeline(undersampler, model)\n",
    "    \n",
    "    # Fit the pipeline (undersampling happens during fit, not on test data)\n",
    "    pipeline.fit(X_train, y_train)\n",
    "    \n",
    "    return model, X_train, X_test, y_train, y_test"
   ]
  },
  {
   "cell_type": "markdown",
   "metadata": {},
   "source": [
    "# Tweet Features"
   ]
  },
  {
   "cell_type": "code",
   "execution_count": 11,
   "metadata": {
    "execution": {
     "iopub.execute_input": "2025-04-14T05:42:10.293501Z",
     "iopub.status.busy": "2025-04-14T05:42:10.292754Z",
     "iopub.status.idle": "2025-04-14T05:42:10.299151Z",
     "shell.execute_reply": "2025-04-14T05:42:10.298089Z",
     "shell.execute_reply.started": "2025-04-14T05:42:10.293468Z"
    },
    "trusted": true
   },
   "outputs": [],
   "source": [
    "from sklearn.metrics import classification_report, confusion_matrix, roc_auc_score\n",
    "\n",
    "def evaluate(model,X_test,y_test):\n",
    "    # Predictions\n",
    "    y_pred = model.predict(X_test)\n",
    "    y_proba = model.predict_proba(X_test)[:, 1]\n",
    "    \n",
    "    # Evaluation metrics\n",
    "    print(\"Confusion Matrix:\")\n",
    "    print(confusion_matrix(y_test, y_pred))\n",
    "    \n",
    "    print(\"\\nClassification Report:\")\n",
    "    print(classification_report(y_test, y_pred))\n",
    "    \n",
    "    print(\"\\nROC AUC Score:\", roc_auc_score(y_test, y_proba))"
   ]
  },
  {
   "cell_type": "code",
   "execution_count": 12,
   "metadata": {
    "execution": {
     "iopub.execute_input": "2025-04-14T05:51:49.054768Z",
     "iopub.status.busy": "2025-04-14T05:51:49.053810Z",
     "iopub.status.idle": "2025-04-14T05:51:49.060877Z",
     "shell.execute_reply": "2025-04-14T05:51:49.059536Z",
     "shell.execute_reply.started": "2025-04-14T05:51:49.054738Z"
    },
    "trusted": true
   },
   "outputs": [],
   "source": [
    "import matplotlib.pyplot as plt\n",
    "\n",
    "# Plot feature importance\n",
    "def print_feature_importance(model, X):\n",
    "    plt.figure(figsize=(10, 8))\n",
    "    sorted_idx = model.feature_importances_.argsort()\n",
    "    plt.barh(X.columns[sorted_idx], model.feature_importances_[sorted_idx])\n",
    "    plt.xlabel(\"XGBoost Feature Importance\")\n",
    "    plt.show()"
   ]
  },
  {
   "cell_type": "code",
   "execution_count": 13,
   "metadata": {
    "execution": {
     "iopub.execute_input": "2025-04-14T05:44:34.887566Z",
     "iopub.status.busy": "2025-04-14T05:44:34.887195Z",
     "iopub.status.idle": "2025-04-14T05:44:35.310680Z",
     "shell.execute_reply": "2025-04-14T05:44:35.309719Z",
     "shell.execute_reply.started": "2025-04-14T05:44:34.887545Z"
    },
    "trusted": true
   },
   "outputs": [
    {
     "name": "stdout",
     "output_type": "stream",
     "text": [
      "Confusion Matrix:\n",
      "[[ 1522   871]\n",
      " [ 8811 15470]]\n",
      "\n",
      "Classification Report:\n",
      "              precision    recall  f1-score   support\n",
      "\n",
      "           0       0.15      0.64      0.24      2393\n",
      "           1       0.95      0.64      0.76     24281\n",
      "\n",
      "    accuracy                           0.64     26674\n",
      "   macro avg       0.55      0.64      0.50     26674\n",
      "weighted avg       0.87      0.64      0.71     26674\n",
      "\n",
      "\n",
      "ROC AUC Score: 0.6930334299966407\n"
     ]
    },
    {
     "data": {
      "image/png": "[encoded data removed]",
      "text/plain": [
       "<Figure size 1000x800 with 1 Axes>"
      ]
     },
     "metadata": {},
     "output_type": "display_data"
    }
   ],
   "source": [
    "model, X_train, X_test, y_train, y_test = train_model(result_df)\n",
    "evaluate(model,X_test,y_test)\n",
    "print_feature_importance(model, X_train)"
   ]
  },
  {
   "cell_type": "markdown",
   "metadata": {},
   "source": [
    "# Tweet + User Features"
   ]
  },
  {
   "cell_type": "code",
   "execution_count": 14,
   "metadata": {
    "execution": {
     "iopub.execute_input": "2025-04-14T05:35:01.882170Z",
     "iopub.status.busy": "2025-04-14T05:35:01.881650Z",
     "iopub.status.idle": "2025-04-14T05:35:01.892735Z",
     "shell.execute_reply": "2025-04-14T05:35:01.891480Z",
     "shell.execute_reply.started": "2025-04-14T05:35:01.882145Z"
    },
    "trusted": true
   },
   "outputs": [],
   "source": [
    "import pandas as pd\n",
    "import ast\n",
    "\n",
    "def prepare_user_data(df_users, df_tweets):\n",
    "\n",
    "    # Parse the 'public_metrics' JSON-like column into separate columns\n",
    "    def public_metrics_col(df):\n",
    "        col_names = list(ast.literal_eval(df['public_metrics'].iloc[0]).keys())\n",
    "        final_cols = []\n",
    "        for i in range(len(df)):\n",
    "            dic = ast.literal_eval(df['public_metrics'].iloc[i])\n",
    "            final_cols.append(list(dic.values()))\n",
    "        metrics_df = pd.DataFrame(final_cols, columns=col_names)\n",
    "        df = pd.concat([df.reset_index(drop=True), metrics_df], axis=1)\n",
    "        return df\n",
    "\n",
    "    df_users = public_metrics_col(df_users)\n",
    "    print(len(df_users))\n",
    "\n",
    "    # Add description length feature\n",
    "    df_users['description_len'] = df_users['description'].apply(lambda x: len(str(x)))\n",
    "    \n",
    "    # Select useful features\n",
    "    useful_user_features = [\n",
    "        \"description_len\", \"id\", \"name\", \"protected\", \"followers_count\",\n",
    "        \"following_count\", \"tweet_count\", \"listed_count\", \"username\", \"verified\"\n",
    "    ]\n",
    "    df_users_features = df_users[useful_user_features]\n",
    "    print(len(df_users_features))\n",
    "    # Match users from tweet authors\n",
    "    users = set([str(i) for i in df_tweets['author_id'].unique()])\n",
    "    df_data = df_users_features[df_users_features['id'].isin(users)].reset_index(drop=True)\n",
    "    print(len(df_data))\n",
    "    # Binary encode booleans\n",
    "    df_data['protected'] = df_data['protected'].apply(lambda x: 1 if x is True else 0)\n",
    "    df_data['verified'] = df_data['verified'].apply(lambda x: 1 if x is True else 0)\n",
    "\n",
    "    # Final feature selection\n",
    "    df_data = df_data[[\n",
    "        'description_len', 'protected', 'followers_count', 'following_count',\n",
    "        'tweet_count', 'listed_count', 'verified', 'id'\n",
    "    ]]\n",
    "\n",
    "    return df_data\n"
   ]
  },
  {
   "cell_type": "code",
   "execution_count": 15,
   "metadata": {
    "execution": {
     "iopub.execute_input": "2025-04-14T05:35:03.457208Z",
     "iopub.status.busy": "2025-04-14T05:35:03.456857Z",
     "iopub.status.idle": "2025-04-14T05:35:18.931602Z",
     "shell.execute_reply": "2025-04-14T05:35:18.930183Z",
     "shell.execute_reply.started": "2025-04-14T05:35:03.457188Z"
    },
    "trusted": true
   },
   "outputs": [
    {
     "name": "stderr",
     "output_type": "stream",
     "text": [
      "/var/folders/jr/zkdlkh_92dz8sgd8xw34xn7h0000gn/T/ipykernel_18015/2460562147.py:1: DtypeWarning: Columns (13) have mixed types. Specify dtype option on import or set low_memory=False.\n",
      "  df_users = pd.read_csv(\"/Users/shantanupatankar/Desktop/Social Computing Project/Data/Raw Data/users.csv\")\n"
     ]
    }
   ],
   "source": [
    "df_users = pd.read_csv(\"/Users/shantanupatankar/Desktop/Social Computing Project/Data/Raw Data/users.csv\")\n",
    "# processed_user_data = prepare_user_data(df_users, result_df)"
   ]
  },
  {
   "cell_type": "code",
   "execution_count": 16,
   "metadata": {
    "execution": {
     "iopub.execute_input": "2025-04-14T05:35:18.933499Z",
     "iopub.status.busy": "2025-04-14T05:35:18.933255Z",
     "iopub.status.idle": "2025-04-14T05:35:52.672025Z",
     "shell.execute_reply": "2025-04-14T05:35:52.670963Z",
     "shell.execute_reply.started": "2025-04-14T05:35:18.933480Z"
    },
    "trusted": true
   },
   "outputs": [
    {
     "name": "stdout",
     "output_type": "stream",
     "text": [
      "1000000\n",
      "1000000\n",
      "266735\n"
     ]
    }
   ],
   "source": [
    "processed_user_data = prepare_user_data(df_users, result_df)"
   ]
  },
  {
   "cell_type": "code",
   "execution_count": 17,
   "metadata": {
    "execution": {
     "iopub.execute_input": "2025-04-14T05:35:52.673262Z",
     "iopub.status.busy": "2025-04-14T05:35:52.672953Z",
     "iopub.status.idle": "2025-04-14T05:35:52.685471Z",
     "shell.execute_reply": "2025-04-14T05:35:52.684536Z",
     "shell.execute_reply.started": "2025-04-14T05:35:52.673239Z"
    },
    "trusted": true
   },
   "outputs": [
    {
     "data": {
      "text/html": [
       "<div>\n",
       "<style scoped>\n",
       "    .dataframe tbody tr th:only-of-type {\n",
       "        vertical-align: middle;\n",
       "    }\n",
       "\n",
       "    .dataframe tbody tr th {\n",
       "        vertical-align: top;\n",
       "    }\n",
       "\n",
       "    .dataframe thead th {\n",
       "        text-align: right;\n",
       "    }\n",
       "</style>\n",
       "<table border=\"1\" class=\"dataframe\">\n",
       "  <thead>\n",
       "    <tr style=\"text-align: right;\">\n",
       "      <th></th>\n",
       "      <th>description_len</th>\n",
       "      <th>protected</th>\n",
       "      <th>followers_count</th>\n",
       "      <th>following_count</th>\n",
       "      <th>tweet_count</th>\n",
       "      <th>listed_count</th>\n",
       "      <th>verified</th>\n",
       "      <th>id</th>\n",
       "    </tr>\n",
       "  </thead>\n",
       "  <tbody>\n",
       "    <tr>\n",
       "      <th>0</th>\n",
       "      <td>92</td>\n",
       "      <td>0</td>\n",
       "      <td>7316</td>\n",
       "      <td>215</td>\n",
       "      <td>3098</td>\n",
       "      <td>69</td>\n",
       "      <td>0</td>\n",
       "      <td>u1217628182611927040</td>\n",
       "    </tr>\n",
       "    <tr>\n",
       "      <th>1</th>\n",
       "      <td>91</td>\n",
       "      <td>0</td>\n",
       "      <td>161</td>\n",
       "      <td>278</td>\n",
       "      <td>788</td>\n",
       "      <td>0</td>\n",
       "      <td>0</td>\n",
       "      <td>u1519144464</td>\n",
       "    </tr>\n",
       "    <tr>\n",
       "      <th>2</th>\n",
       "      <td>81</td>\n",
       "      <td>0</td>\n",
       "      <td>10299</td>\n",
       "      <td>2166</td>\n",
       "      <td>57397</td>\n",
       "      <td>383</td>\n",
       "      <td>1</td>\n",
       "      <td>u15211869</td>\n",
       "    </tr>\n",
       "    <tr>\n",
       "      <th>3</th>\n",
       "      <td>26</td>\n",
       "      <td>0</td>\n",
       "      <td>45541</td>\n",
       "      <td>1206</td>\n",
       "      <td>9194</td>\n",
       "      <td>605</td>\n",
       "      <td>0</td>\n",
       "      <td>u2465283662</td>\n",
       "    </tr>\n",
       "    <tr>\n",
       "      <th>4</th>\n",
       "      <td>149</td>\n",
       "      <td>0</td>\n",
       "      <td>4694</td>\n",
       "      <td>4739</td>\n",
       "      <td>91381</td>\n",
       "      <td>116</td>\n",
       "      <td>0</td>\n",
       "      <td>u234059290</td>\n",
       "    </tr>\n",
       "    <tr>\n",
       "      <th>...</th>\n",
       "      <td>...</td>\n",
       "      <td>...</td>\n",
       "      <td>...</td>\n",
       "      <td>...</td>\n",
       "      <td>...</td>\n",
       "      <td>...</td>\n",
       "      <td>...</td>\n",
       "      <td>...</td>\n",
       "    </tr>\n",
       "    <tr>\n",
       "      <th>266730</th>\n",
       "      <td>44</td>\n",
       "      <td>0</td>\n",
       "      <td>174</td>\n",
       "      <td>105</td>\n",
       "      <td>12619</td>\n",
       "      <td>2</td>\n",
       "      <td>0</td>\n",
       "      <td>u1380005641863917569</td>\n",
       "    </tr>\n",
       "    <tr>\n",
       "      <th>266731</th>\n",
       "      <td>127</td>\n",
       "      <td>0</td>\n",
       "      <td>1935</td>\n",
       "      <td>551</td>\n",
       "      <td>8924</td>\n",
       "      <td>61</td>\n",
       "      <td>0</td>\n",
       "      <td>u98572807</td>\n",
       "    </tr>\n",
       "    <tr>\n",
       "      <th>266732</th>\n",
       "      <td>121</td>\n",
       "      <td>0</td>\n",
       "      <td>76</td>\n",
       "      <td>20</td>\n",
       "      <td>107</td>\n",
       "      <td>2</td>\n",
       "      <td>0</td>\n",
       "      <td>u706703037973147652</td>\n",
       "    </tr>\n",
       "    <tr>\n",
       "      <th>266733</th>\n",
       "      <td>157</td>\n",
       "      <td>0</td>\n",
       "      <td>2550</td>\n",
       "      <td>2515</td>\n",
       "      <td>77886</td>\n",
       "      <td>60</td>\n",
       "      <td>0</td>\n",
       "      <td>u16481893</td>\n",
       "    </tr>\n",
       "    <tr>\n",
       "      <th>266734</th>\n",
       "      <td>65</td>\n",
       "      <td>0</td>\n",
       "      <td>87</td>\n",
       "      <td>789</td>\n",
       "      <td>293016</td>\n",
       "      <td>29</td>\n",
       "      <td>0</td>\n",
       "      <td>u3029733175</td>\n",
       "    </tr>\n",
       "  </tbody>\n",
       "</table>\n",
       "<p>266735 rows × 8 columns</p>\n",
       "</div>"
      ],
      "text/plain": [
       "        description_len  protected  followers_count  following_count  \\\n",
       "0                    92          0             7316              215   \n",
       "1                    91          0              161              278   \n",
       "2                    81          0            10299             2166   \n",
       "3                    26          0            45541             1206   \n",
       "4                   149          0             4694             4739   \n",
       "...                 ...        ...              ...              ...   \n",
       "266730               44          0              174              105   \n",
       "266731              127          0             1935              551   \n",
       "266732              121          0               76               20   \n",
       "266733              157          0             2550             2515   \n",
       "266734               65          0               87              789   \n",
       "\n",
       "        tweet_count  listed_count  verified                    id  \n",
       "0              3098            69         0  u1217628182611927040  \n",
       "1               788             0         0           u1519144464  \n",
       "2             57397           383         1             u15211869  \n",
       "3              9194           605         0           u2465283662  \n",
       "4             91381           116         0            u234059290  \n",
       "...             ...           ...       ...                   ...  \n",
       "266730        12619             2         0  u1380005641863917569  \n",
       "266731         8924            61         0             u98572807  \n",
       "266732          107             2         0   u706703037973147652  \n",
       "266733        77886            60         0             u16481893  \n",
       "266734       293016            29         0           u3029733175  \n",
       "\n",
       "[266735 rows x 8 columns]"
      ]
     },
     "execution_count": 17,
     "metadata": {},
     "output_type": "execute_result"
    }
   ],
   "source": [
    "processed_user_data"
   ]
  },
  {
   "cell_type": "code",
   "execution_count": 18,
   "metadata": {
    "execution": {
     "iopub.execute_input": "2025-04-14T05:47:33.251852Z",
     "iopub.status.busy": "2025-04-14T05:47:33.251535Z",
     "iopub.status.idle": "2025-04-14T05:47:33.268122Z",
     "shell.execute_reply": "2025-04-14T05:47:33.266848Z",
     "shell.execute_reply.started": "2025-04-14T05:47:33.251829Z"
    },
    "trusted": true
   },
   "outputs": [],
   "source": [
    "result_df_merged = result_df.merge(processed_user_data, left_on='author_id', right_on='id', how='left')\n",
    "\n"
   ]
  },
  {
   "cell_type": "code",
   "execution_count": 19,
   "metadata": {
    "execution": {
     "iopub.execute_input": "2025-04-14T05:29:32.395680Z",
     "iopub.status.busy": "2025-04-14T05:29:32.395323Z",
     "iopub.status.idle": "2025-04-14T05:29:32.404616Z",
     "shell.execute_reply": "2025-04-14T05:29:32.403327Z",
     "shell.execute_reply.started": "2025-04-14T05:29:32.395659Z"
    },
    "trusted": true
   },
   "outputs": [
    {
     "data": {
      "text/plain": [
       "array(['u12', 'u17', 'u22', ..., 'u1495621436387610626',\n",
       "       'u1495808636400115720', 'u1495884505630007299'],\n",
       "      shape=(266735,), dtype=object)"
      ]
     },
     "execution_count": 19,
     "metadata": {},
     "output_type": "execute_result"
    }
   ],
   "source": [
    "result_df['author_id'].unique()"
   ]
  },
  {
   "cell_type": "code",
   "execution_count": 20,
   "metadata": {
    "execution": {
     "iopub.execute_input": "2025-04-14T05:53:02.666108Z",
     "iopub.status.busy": "2025-04-14T05:53:02.665708Z",
     "iopub.status.idle": "2025-04-14T05:53:03.187834Z",
     "shell.execute_reply": "2025-04-14T05:53:03.186903Z",
     "shell.execute_reply.started": "2025-04-14T05:53:02.666084Z"
    },
    "trusted": true
   },
   "outputs": [
    {
     "name": "stdout",
     "output_type": "stream",
     "text": [
      "Confusion Matrix:\n",
      "[[ 1854   539]\n",
      " [ 5655 18626]]\n",
      "\n",
      "Classification Report:\n",
      "              precision    recall  f1-score   support\n",
      "\n",
      "           0       0.25      0.77      0.37      2393\n",
      "           1       0.97      0.77      0.86     24281\n",
      "\n",
      "    accuracy                           0.77     26674\n",
      "   macro avg       0.61      0.77      0.62     26674\n",
      "weighted avg       0.91      0.77      0.81     26674\n",
      "\n",
      "\n",
      "ROC AUC Score: 0.8528549878457639\n"
     ]
    },
    {
     "data": {
      "image/png": "[encoded data removed]",
      "text/plain": [
       "<Figure size 1000x800 with 1 Axes>"
      ]
     },
     "metadata": {},
     "output_type": "display_data"
    }
   ],
   "source": [
    "model, X_train, X_test, y_train, y_test = train_model(result_df_merged)\n",
    "\n",
    "evaluate(model,X_test,y_test)\n",
    "print_feature_importance(model, X_train)"
   ]
  },
  {
   "cell_type": "code",
   "execution_count": 21,
   "metadata": {},
   "outputs": [],
   "source": [
    "result_df_merged.to_csv(\"/Users/shantanupatankar/Desktop/Social Computing Project/Data/Clean Data/Tweet_User_Numerical_6.csv\", index = False)"
   ]
  },
  {
   "cell_type": "code",
   "execution_count": 3,
   "metadata": {},
   "outputs": [],
   "source": [
    "import pandas as pd\n",
    "df0 = pd.read_csv(\"/Users/shantanupatankar/Desktop/Social Computing Project/Data/Clean Data/relevant_data_trim_entities_0.csv\",usecols=['text', 'author_id'])\n",
    "df2 = pd.read_csv(\"/Users/shantanupatankar/Desktop/Social Computing Project/Data/Clean Data/relevant_data_trim_entities_2.csv\",usecols=['text', 'author_id'])\n",
    "df6 = pd.read_csv(\"/Users/shantanupatankar/Desktop/Social Computing Project/Data/Clean Data/relevant_data_trim_entities_6.csv\",usecols=['text', 'author_id'])"
   ]
  },
  {
   "cell_type": "code",
   "execution_count": 4,
   "metadata": {},
   "outputs": [],
   "source": [
    "df_merged = pd.concat([df0,df2,df6])"
   ]
  },
  {
   "cell_type": "code",
   "execution_count": 10,
   "metadata": {},
   "outputs": [],
   "source": [
    "cols = pd.read_csv(\"/Users/shantanupatankar/Desktop/Social Computing Project/Data/Clean Data/Tweets_balanced.csv\").author_id\n",
    "df_lab = pd.read_csv(\"/Users/shantanupatankar/Desktop/Social Computing Project/Data/Raw Data/label.csv\")"
   ]
  },
  {
   "cell_type": "code",
   "execution_count": 13,
   "metadata": {},
   "outputs": [],
   "source": [
    "cols = pd.read_csv(\"/Users/shantanupatankar/Desktop/Social Computing Project/Data/Clean Data/Tweets_balanced.csv\").author_id\n",
    "df_merged['author_id'] = df_merged['author_id'].apply(lambda x: 'u' + str(x))\n",
    "df_merged = df_merged[df_merged['author_id'].isin(cols)]"
   ]
  },
  {
   "cell_type": "code",
   "execution_count": 16,
   "metadata": {},
   "outputs": [],
   "source": [
    "df_merged = df_merged.reset_index(drop=True)\n"
   ]
  },
  {
   "cell_type": "code",
   "execution_count": 19,
   "metadata": {},
   "outputs": [],
   "source": [
    "# Group by author_id and take first 5 tweets per author\n",
    "grouped = df_merged.groupby('author_id')['text'].apply(lambda x: x.head(5).reset_index(drop=True))\n",
    "\n",
    "# Function to concatenate with markers\n",
    "def concat_with_markers(tweets):\n",
    "    return ' '.join([f\"{tweet} [{i+1}]\" for i, tweet in enumerate(tweets)])\n",
    "\n",
    "# Apply the function to each group\n",
    "result_df = grouped.groupby(level=0).apply(concat_with_markers).reset_index(name='text')\n"
   ]
  },
  {
   "cell_type": "code",
   "execution_count": 20,
   "metadata": {},
   "outputs": [
    {
     "data": {
      "text/plain": [
       "93276"
      ]
     },
     "execution_count": 20,
     "metadata": {},
     "output_type": "execute_result"
    }
   ],
   "source": [
    "len(result_df)"
   ]
  },
  {
   "cell_type": "code",
   "execution_count": 21,
   "metadata": {},
   "outputs": [
    {
     "data": {
      "text/plain": [
       "93276"
      ]
     },
     "execution_count": 21,
     "metadata": {},
     "output_type": "execute_result"
    }
   ],
   "source": [
    "len(cols)"
   ]
  },
  {
   "cell_type": "code",
   "execution_count": 27,
   "metadata": {},
   "outputs": [],
   "source": [
    "# Rename 'id' to 'author_id' in df_lab for the merge\n",
    "df_lab_renamed = df_lab.rename(columns={'id': 'author_id'})\n",
    "\n",
    "# Merge the dataframes on 'author_id'\n",
    "final_df = pd.merge(result_df, df_lab_renamed, on='author_id', how='inner')\n"
   ]
  },
  {
   "cell_type": "code",
   "execution_count": 30,
   "metadata": {},
   "outputs": [],
   "source": [
    "final_df.to_csv(\"/Users/shantanupatankar/Desktop/Social Computing Project/Data/Clean Data/Text5_balanced.csv\", index = False)"
   ]
  },
  {
   "cell_type": "code",
   "execution_count": 31,
   "metadata": {},
   "outputs": [
    {
     "data": {
      "text/html": [
       "<div>\n",
       "<style scoped>\n",
       "    .dataframe tbody tr th:only-of-type {\n",
       "        vertical-align: middle;\n",
       "    }\n",
       "\n",
       "    .dataframe tbody tr th {\n",
       "        vertical-align: top;\n",
       "    }\n",
       "\n",
       "    .dataframe thead th {\n",
       "        text-align: right;\n",
       "    }\n",
       "</style>\n",
       "<table border=\"1\" class=\"dataframe\">\n",
       "  <thead>\n",
       "    <tr style=\"text-align: right;\">\n",
       "      <th></th>\n",
       "      <th>author_id</th>\n",
       "      <th>text</th>\n",
       "    </tr>\n",
       "  </thead>\n",
       "  <tbody>\n",
       "    <tr>\n",
       "      <th>0</th>\n",
       "      <td>1304855289208819713</td>\n",
       "      <td>@phaseknight_ Although I didn't base this sket...</td>\n",
       "    </tr>\n",
       "    <tr>\n",
       "      <th>1</th>\n",
       "      <td>1304855289208819713</td>\n",
       "      <td>I mean, doesn't his beautiful face just scream...</td>\n",
       "    </tr>\n",
       "    <tr>\n",
       "      <th>2</th>\n",
       "      <td>1304855289208819713</td>\n",
       "      <td>@Cobalt_han I'm British, so that used to be me...</td>\n",
       "    </tr>\n",
       "    <tr>\n",
       "      <th>3</th>\n",
       "      <td>1304855289208819713</td>\n",
       "      <td>RT @itsginnydi: the only thing better than the...</td>\n",
       "    </tr>\n",
       "    <tr>\n",
       "      <th>4</th>\n",
       "      <td>1304855289208819713</td>\n",
       "      <td>Lucky and his sister, among other bears, were ...</td>\n",
       "    </tr>\n",
       "    <tr>\n",
       "      <th>...</th>\n",
       "      <td>...</td>\n",
       "      <td>...</td>\n",
       "    </tr>\n",
       "    <tr>\n",
       "      <th>7326592</th>\n",
       "      <td>16989141</td>\n",
       "      <td>RT @scotgov: The less we judge people struggli...</td>\n",
       "    </tr>\n",
       "    <tr>\n",
       "      <th>7326593</th>\n",
       "      <td>16989141</td>\n",
       "      <td>@BertNodules @Lenniesaurus We* the taxpayers o...</td>\n",
       "    </tr>\n",
       "    <tr>\n",
       "      <th>7326594</th>\n",
       "      <td>16989141</td>\n",
       "      <td>RT @choochod: Cast a vote for Dave.</td>\n",
       "    </tr>\n",
       "    <tr>\n",
       "      <th>7326595</th>\n",
       "      <td>16989141</td>\n",
       "      <td>RT @neilmosley5: \"As more and more employers a...</td>\n",
       "    </tr>\n",
       "    <tr>\n",
       "      <th>7326596</th>\n",
       "      <td>16989141</td>\n",
       "      <td>RT @marcuscarslaw1: Fantastic news. https://t....</td>\n",
       "    </tr>\n",
       "  </tbody>\n",
       "</table>\n",
       "<p>7326597 rows × 2 columns</p>\n",
       "</div>"
      ],
      "text/plain": [
       "                   author_id  \\\n",
       "0        1304855289208819713   \n",
       "1        1304855289208819713   \n",
       "2        1304855289208819713   \n",
       "3        1304855289208819713   \n",
       "4        1304855289208819713   \n",
       "...                      ...   \n",
       "7326592             16989141   \n",
       "7326593             16989141   \n",
       "7326594             16989141   \n",
       "7326595             16989141   \n",
       "7326596             16989141   \n",
       "\n",
       "                                                      text  \n",
       "0        @phaseknight_ Although I didn't base this sket...  \n",
       "1        I mean, doesn't his beautiful face just scream...  \n",
       "2        @Cobalt_han I'm British, so that used to be me...  \n",
       "3        RT @itsginnydi: the only thing better than the...  \n",
       "4        Lucky and his sister, among other bears, were ...  \n",
       "...                                                    ...  \n",
       "7326592  RT @scotgov: The less we judge people struggli...  \n",
       "7326593  @BertNodules @Lenniesaurus We* the taxpayers o...  \n",
       "7326594                RT @choochod: Cast a vote for Dave.  \n",
       "7326595  RT @neilmosley5: \"As more and more employers a...  \n",
       "7326596  RT @marcuscarslaw1: Fantastic news. https://t....  \n",
       "\n",
       "[7326597 rows x 2 columns]"
      ]
     },
     "execution_count": 31,
     "metadata": {},
     "output_type": "execute_result"
    }
   ],
   "source": [
    "df0"
   ]
  },
  {
   "cell_type": "code",
   "execution_count": null,
   "metadata": {},
   "outputs": [],
   "source": []
  }
 ],
 "metadata": {
  "kaggle": {
   "accelerator": "none",
   "dataSources": [
    {
     "datasetId": 7121403,
     "sourceId": 11393653,
     "sourceType": "datasetVersion"
    }
   ],
   "dockerImageVersionId": 31012,
   "isGpuEnabled": false,
   "isInternetEnabled": true,
   "language": "python",
   "sourceType": "notebook"
  },
  "kernelspec": {
   "display_name": "Python 3",
   "language": "python",
   "name": "python3"
  },
  "language_info": {
   "codemirror_mode": {
    "name": "ipython",
    "version": 3
   },
   "file_extension": ".py",
   "mimetype": "text/x-python",
   "name": "python",
   "nbconvert_exporter": "python",
   "pygments_lexer": "ipython3",
   "version": "3.13.2"
  }
 },
 "nbformat": 4,
 "nbformat_minor": 4
}
