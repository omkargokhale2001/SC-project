{
 "cells": [
  {
   "cell_type": "code",
   "execution_count": 1,
   "id": "c59c8f84",
   "metadata": {
    "_cell_guid": "b1076dfc-b9ad-4769-8c92-a6c4dae69d19",
    "_uuid": "8f2839f25d086af736a60e9eeb907d3b93b6e0e5",
    "execution": {
     "iopub.execute_input": "2025-04-16T00:11:35.983586Z",
     "iopub.status.busy": "2025-04-16T00:11:35.983333Z",
     "iopub.status.idle": "2025-04-16T00:11:37.604916Z",
     "shell.execute_reply": "2025-04-16T00:11:37.604187Z"
    },
    "papermill": {
     "duration": 1.626299,
     "end_time": "2025-04-16T00:11:37.606309",
     "exception": false,
     "start_time": "2025-04-16T00:11:35.980010",
     "status": "completed"
    },
    "tags": []
   },
   "outputs": [],
   "source": [
    "import pandas as pd"
   ]
  },
  {
   "cell_type": "code",
   "execution_count": 2,
   "id": "0dae5023",
   "metadata": {
    "execution": {
     "iopub.execute_input": "2025-04-16T00:11:37.613905Z",
     "iopub.status.busy": "2025-04-16T00:11:37.613547Z",
     "iopub.status.idle": "2025-04-16T00:11:38.624520Z",
     "shell.execute_reply": "2025-04-16T00:11:38.623786Z"
    },
    "papermill": {
     "duration": 1.014576,
     "end_time": "2025-04-16T00:11:38.625846",
     "exception": false,
     "start_time": "2025-04-16T00:11:37.611270",
     "status": "completed"
    },
    "tags": []
   },
   "outputs": [],
   "source": [
    "labels = pd.read_csv(\"/kaggle/input/trimmed-twibot-22/label.csv\")"
   ]
  },
  {
   "cell_type": "code",
   "execution_count": 3,
   "id": "2d0a8efe",
   "metadata": {
    "execution": {
     "iopub.execute_input": "2025-04-16T00:11:38.630194Z",
     "iopub.status.busy": "2025-04-16T00:11:38.630006Z",
     "iopub.status.idle": "2025-04-16T00:11:39.060033Z",
     "shell.execute_reply": "2025-04-16T00:11:39.059160Z"
    },
    "papermill": {
     "duration": 0.433478,
     "end_time": "2025-04-16T00:11:39.061192",
     "exception": false,
     "start_time": "2025-04-16T00:11:38.627714",
     "status": "completed"
    },
    "tags": []
   },
   "outputs": [],
   "source": [
    "labels_dict = dict(zip(labels['id'], labels['label']))"
   ]
  },
  {
   "cell_type": "code",
   "execution_count": 4,
   "id": "a7f3be35",
   "metadata": {
    "execution": {
     "iopub.execute_input": "2025-04-16T00:11:39.065555Z",
     "iopub.status.busy": "2025-04-16T00:11:39.065272Z",
     "iopub.status.idle": "2025-04-16T00:11:39.069282Z",
     "shell.execute_reply": "2025-04-16T00:11:39.068619Z"
    },
    "papermill": {
     "duration": 0.007246,
     "end_time": "2025-04-16T00:11:39.070341",
     "exception": false,
     "start_time": "2025-04-16T00:11:39.063095",
     "status": "completed"
    },
    "tags": []
   },
   "outputs": [],
   "source": [
    "import csv\n",
    "import pickle"
   ]
  },
  {
   "cell_type": "code",
   "execution_count": 5,
   "id": "c97ad0d2",
   "metadata": {
    "execution": {
     "iopub.execute_input": "2025-04-16T00:11:39.074953Z",
     "iopub.status.busy": "2025-04-16T00:11:39.074291Z",
     "iopub.status.idle": "2025-04-16T00:13:12.051593Z",
     "shell.execute_reply": "2025-04-16T00:13:12.050695Z"
    },
    "papermill": {
     "duration": 92.981169,
     "end_time": "2025-04-16T00:13:12.053102",
     "exception": false,
     "start_time": "2025-04-16T00:11:39.071933",
     "status": "completed"
    },
    "tags": []
   },
   "outputs": [],
   "source": [
    "with open('/kaggle/input/sc-tweet2user/tweet2user.pkl', 'rb') as f:\n",
    "    tweets_dict = pickle.load(f)"
   ]
  },
  {
   "cell_type": "code",
   "execution_count": 6,
   "id": "feb849ee",
   "metadata": {
    "execution": {
     "iopub.execute_input": "2025-04-16T00:13:12.057636Z",
     "iopub.status.busy": "2025-04-16T00:13:12.057411Z",
     "iopub.status.idle": "2025-04-16T00:15:43.936087Z",
     "shell.execute_reply": "2025-04-16T00:15:43.934567Z"
    },
    "papermill": {
     "duration": 151.884537,
     "end_time": "2025-04-16T00:15:43.939726",
     "exception": false,
     "start_time": "2025-04-16T00:13:12.055189",
     "status": "completed"
    },
    "tags": []
   },
   "outputs": [],
   "source": [
    "total = 0\n",
    "human_bot = 0\n",
    "bot_human = 0\n",
    "bot_bot = 0\n",
    "human_human = 0\n",
    "with open('/kaggle/input/twibot-edges/edge-009.csv', 'r') as f:\n",
    "    reader = csv.reader(f)\n",
    "    for i, row in enumerate(reader):\n",
    "        if row[1]==\"replied_to\":\n",
    "            owner = row[2]\n",
    "            sender = row[0]\n",
    "            if labels_dict[tweets_dict[owner]]==\"bot\":\n",
    "                if labels_dict[tweets_dict[sender]]==\"bot\":\n",
    "                    bot_bot+=1\n",
    "                elif labels_dict[tweets_dict[sender]]==\"human\":\n",
    "                    human_bot+=1\n",
    "            elif labels_dict[tweets_dict[owner]]==\"human\":\n",
    "                if labels_dict[tweets_dict[sender]]==\"bot\":\n",
    "                    bot_human+=1\n",
    "                elif labels_dict[tweets_dict[owner]]==\"human\":\n",
    "                    human_human+=1\n",
    "            total+=1"
   ]
  },
  {
   "cell_type": "code",
   "execution_count": 7,
   "id": "22c41434",
   "metadata": {
    "execution": {
     "iopub.execute_input": "2025-04-16T00:15:43.947554Z",
     "iopub.status.busy": "2025-04-16T00:15:43.947218Z",
     "iopub.status.idle": "2025-04-16T00:15:43.953641Z",
     "shell.execute_reply": "2025-04-16T00:15:43.952634Z"
    },
    "papermill": {
     "duration": 0.010823,
     "end_time": "2025-04-16T00:15:43.954949",
     "exception": false,
     "start_time": "2025-04-16T00:15:43.944126",
     "status": "completed"
    },
    "tags": []
   },
   "outputs": [
    {
     "name": "stdout",
     "output_type": "stream",
     "text": [
      "bot_bot 1.16\n",
      "human_human 91.82\n",
      "bot_human 4.13\n",
      "human_bot 2.89\n",
      "1114980\n"
     ]
    }
   ],
   "source": [
    "print(\"bot_bot\", round((bot_bot/total)*100, 2))\n",
    "print(\"human_human\", round((human_human/total)*100, 2))\n",
    "print(\"bot_human\", round((bot_human/total)*100, 2))\n",
    "print(\"human_bot\", round((human_bot/total)*100, 2))\n",
    "print(total)"
   ]
  },
  {
   "cell_type": "code",
   "execution_count": null,
   "id": "69c80f36",
   "metadata": {
    "papermill": {
     "duration": 0.001421,
     "end_time": "2025-04-16T00:15:43.958415",
     "exception": false,
     "start_time": "2025-04-16T00:15:43.956994",
     "status": "completed"
    },
    "tags": []
   },
   "outputs": [],
   "source": []
  }
 ],
 "metadata": {
  "kaggle": {
   "accelerator": "none",
   "dataSources": [
    {
     "datasetId": 7147050,
     "sourceId": 11410335,
     "sourceType": "datasetVersion"
    },
    {
     "datasetId": 7121403,
     "sourceId": 11411837,
     "sourceType": "datasetVersion"
    },
    {
     "datasetId": 7156934,
     "sourceId": 11427216,
     "sourceType": "datasetVersion"
    }
   ],
   "dockerImageVersionId": 31012,
   "isGpuEnabled": false,
   "isInternetEnabled": true,
   "language": "python",
   "sourceType": "notebook"
  },
  "kernelspec": {
   "display_name": "Python 3",
   "language": "python",
   "name": "python3"
  },
  "language_info": {
   "codemirror_mode": {
    "name": "ipython",
    "version": 3
   },
   "file_extension": ".py",
   "mimetype": "text/x-python",
   "name": "python",
   "nbconvert_exporter": "python",
   "pygments_lexer": "ipython3",
   "version": "3.11.11"
  },
  "papermill": {
   "default_parameters": {},
   "duration": 255.290913,
   "end_time": "2025-04-16T00:15:47.483461",
   "environment_variables": {},
   "exception": null,
   "input_path": "__notebook__.ipynb",
   "output_path": "__notebook__.ipynb",
   "parameters": {},
   "start_time": "2025-04-16T00:11:32.192548",
   "version": "2.6.0"
  }
 },
 "nbformat": 4,
 "nbformat_minor": 5
}
